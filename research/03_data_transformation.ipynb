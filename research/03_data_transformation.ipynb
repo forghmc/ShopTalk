{
 "cells": [
  {
   "cell_type": "code",
   "execution_count": 3,
   "metadata": {},
   "outputs": [],
   "source": [
    "import os"
   ]
  },
  {
   "cell_type": "code",
   "execution_count": 4,
   "metadata": {},
   "outputs": [
    {
     "data": {
      "text/plain": [
       "'c:\\\\Users\\\\deept\\\\ShopTalk\\\\research'"
      ]
     },
     "execution_count": 4,
     "metadata": {},
     "output_type": "execute_result"
    }
   ],
   "source": [
    "%pwd"
   ]
  },
  {
   "cell_type": "code",
   "execution_count": 5,
   "metadata": {},
   "outputs": [],
   "source": [
    "os.chdir(\"../\")"
   ]
  },
  {
   "cell_type": "code",
   "execution_count": 6,
   "metadata": {},
   "outputs": [
    {
     "data": {
      "text/plain": [
       "'c:\\\\Users\\\\deept\\\\ShopTalk'"
      ]
     },
     "execution_count": 6,
     "metadata": {},
     "output_type": "execute_result"
    }
   ],
   "source": [
    "%pwd"
   ]
  },
  {
   "cell_type": "code",
   "execution_count": 7,
   "metadata": {},
   "outputs": [],
   "source": [
    "from dataclasses import dataclass\n",
    "from pathlib import Path\n",
    "\n",
    "\n",
    "@dataclass(frozen=True)\n",
    "class DataTransformationConfig:\n",
    "    root_dir: Path\n",
    "    data_dir: Path"
   ]
  },
  {
   "cell_type": "code",
   "execution_count": 8,
   "metadata": {},
   "outputs": [],
   "source": [
    "from mlProject.constants import *\n",
    "from mlProject.utils.common import read_yaml, create_directories"
   ]
  },
  {
   "cell_type": "code",
   "execution_count": 9,
   "metadata": {},
   "outputs": [],
   "source": [
    "class ConfigurationManager:\n",
    "    CONFIG_FILE_PATH = r'C:\\Users\\deept\\ShopTalk\\config\\config.yaml'\n",
    "    PARAMS_FILE_PATH = r\"C:\\Users\\deept\\ShopTalk\\params.yaml\"\n",
    "    SCHEMA_FILE_PATH = r\"C:\\Users\\deept\\ShopTalk\\schema.yaml\"\n",
    "\n",
    "    def __init__(\n",
    "        self,\n",
    "        config_filepath = Path(CONFIG_FILE_PATH),\n",
    "        params_filepath = Path(PARAMS_FILE_PATH),\n",
    "        schema_filepath = Path(SCHEMA_FILE_PATH)):\n",
    "\n",
    "        self.config = read_yaml(config_filepath)\n",
    "        self.params = read_yaml(params_filepath)\n",
    "        self.schema = read_yaml(schema_filepath)\n",
    "    \n",
    "        create_directories([self.config.artifacts_root])\n",
    "\n",
    "    \n",
    "    def get_data_transformation_config(self) -> DataTransformationConfig:\n",
    "        config = self.config.data_transformation\n",
    "        create_directories([config.root_dir])\n",
    "\n",
    "        data_transformation_config = DataTransformationConfig(\n",
    "            root_dir=config.root_dir,\n",
    "            data_dir=config.data_dir,\n",
    "        )\n",
    "\n",
    "        return data_transformation_config"
   ]
  },
  {
   "cell_type": "code",
   "execution_count": 10,
   "metadata": {},
   "outputs": [],
   "source": [
    "import os\n",
    "from mlProject import logger\n",
    "from sklearn.model_selection import train_test_split\n",
    "import pandas as pd"
   ]
  },
  {
   "cell_type": "code",
   "execution_count": 11,
   "metadata": {},
   "outputs": [],
   "source": [
    "class DataTransformation:\n",
    "    def __init__(self, config: DataTransformationConfig):\n",
    "        self.config = config\n",
    "\n",
    "    \n",
    "    ## Note: You can add different data transformation techniques such as Scaler, PCA and all\n",
    "    #You can perform all kinds of EDA in ML cycle here before passing this data to the model\n",
    "\n",
    "    # I am only adding train_test_spliting cz this data is already cleaned up\n",
    "\n",
    "\n",
    "    def train_test_spliting(self):\n",
    "        try:\n",
    "            # Base directory containing JSON files\n",
    "            data_dir = Path(self.config.data_dir) \n",
    "\n",
    "            # Create Train and Test subfolders\n",
    "            train_folder = data_dir / \"Train\"\n",
    "            test_folder = data_dir / \"Test\"\n",
    "\n",
    "            # Ensure Train and Test folders exist\n",
    "            train_folder.mkdir(exist_ok=True)\n",
    "            test_folder.mkdir(exist_ok=True)\n",
    "\n",
    "            # Get list of all JSON files in data_dir\n",
    "            json_files = [f for f in data_dir.iterdir() if f.suffix == \".json\"]\n",
    "\n",
    "            # Iterate through each JSON file\n",
    "            for json_file in json_files:\n",
    "                # Load data from JSON file\n",
    "                data = pd.read_json(json_file, lines=True)\n",
    "                \n",
    "                # Split the data into training and test sets (75% train, 25% test)\n",
    "                train, test = train_test_split(data, test_size=0.25, random_state=42)\n",
    "\n",
    "                # Define file paths for train and test JSON files in respective folders\n",
    "                train_file = train_folder / f\"{json_file.stem}_train.json\"\n",
    "                test_file = test_folder / f\"{json_file.stem}_test.json\"\n",
    "\n",
    "                # Save the train and test sets to JSON files\n",
    "                train.to_json(train_file, orient='records', lines=True)\n",
    "                test.to_json(test_file, orient='records', lines=True)\n",
    "\n",
    "                # Logging information\n",
    "                logger.info(f\"Split {json_file.name} into train and test sets\")\n",
    "                logger.info(f\"Training set shape: {train.shape}\")\n",
    "                logger.info(f\"Test set shape: {test.shape}\")\n",
    "\n",
    "                # Print the shapes of the training and test sets\n",
    "                print(f\"Training set shape for {json_file.name}: {train.shape}\")\n",
    "                print(f\"Test set shape for {json_file.name}: {test.shape}\")\n",
    "\n",
    "        except Exception as e:\n",
    "            logger.error(\"Error during train/test split: \", exc_info=True)\n",
    "            raise  # Re-raise the exception after logging\n",
    "        "
   ]
  },
  {
   "cell_type": "code",
   "execution_count": 12,
   "metadata": {},
   "outputs": [
    {
     "name": "stdout",
     "output_type": "stream",
     "text": [
      "[2024-04-23 22:32:09,039: INFO: common: yaml file: C:\\Users\\deept\\ShopTalk\\config\\config.yaml loaded successfully]\n",
      "[2024-04-23 22:32:09,041: INFO: common: yaml file: C:\\Users\\deept\\ShopTalk\\params.yaml loaded successfully]\n",
      "[2024-04-23 22:32:09,053: INFO: common: yaml file: C:\\Users\\deept\\ShopTalk\\schema.yaml loaded successfully]\n",
      "[2024-04-23 22:32:09,055: INFO: common: created directory at: artifacts]\n",
      "[2024-04-23 22:32:09,057: INFO: common: created directory at: artifacts/data_validation]\n",
      "[2024-04-23 22:32:11,110: INFO: 911997196: Split listings_0.json into train and test sets]\n",
      "[2024-04-23 22:32:11,111: INFO: 911997196: Training set shape: (6924, 28)]\n",
      "[2024-04-23 22:32:11,112: INFO: 911997196: Test set shape: (2308, 28)]\n",
      "Training set shape for listings_0.json: (6924, 28)\n",
      "Test set shape for listings_0.json: (2308, 28)\n",
      "[2024-04-23 22:32:13,584: INFO: 911997196: Split listings_1.json into train and test sets]\n",
      "[2024-04-23 22:32:13,585: INFO: 911997196: Training set shape: (6924, 28)]\n",
      "[2024-04-23 22:32:13,586: INFO: 911997196: Test set shape: (2308, 28)]\n",
      "Training set shape for listings_1.json: (6924, 28)\n",
      "Test set shape for listings_1.json: (2308, 28)\n",
      "[2024-04-23 22:32:15,869: INFO: 911997196: Split listings_2.json into train and test sets]\n",
      "[2024-04-23 22:32:15,871: INFO: 911997196: Training set shape: (6924, 28)]\n",
      "[2024-04-23 22:32:15,871: INFO: 911997196: Test set shape: (2308, 28)]\n",
      "Training set shape for listings_2.json: (6924, 28)\n",
      "Test set shape for listings_2.json: (2308, 28)\n",
      "[2024-04-23 22:32:18,261: INFO: 911997196: Split listings_3.json into train and test sets]\n",
      "[2024-04-23 22:32:18,263: INFO: 911997196: Training set shape: (6924, 28)]\n",
      "[2024-04-23 22:32:18,264: INFO: 911997196: Test set shape: (2308, 28)]\n",
      "Training set shape for listings_3.json: (6924, 28)\n",
      "Test set shape for listings_3.json: (2308, 28)\n",
      "[2024-04-23 22:32:20,384: INFO: 911997196: Split listings_4.json into train and test sets]\n",
      "[2024-04-23 22:32:20,385: INFO: 911997196: Training set shape: (6924, 28)]\n",
      "[2024-04-23 22:32:20,385: INFO: 911997196: Test set shape: (2308, 28)]\n",
      "Training set shape for listings_4.json: (6924, 28)\n",
      "Test set shape for listings_4.json: (2308, 28)\n",
      "[2024-04-23 22:32:22,635: INFO: 911997196: Split listings_5.json into train and test sets]\n",
      "[2024-04-23 22:32:22,636: INFO: 911997196: Training set shape: (6924, 28)]\n",
      "[2024-04-23 22:32:22,639: INFO: 911997196: Test set shape: (2308, 28)]\n",
      "Training set shape for listings_5.json: (6924, 28)\n",
      "Test set shape for listings_5.json: (2308, 28)\n",
      "[2024-04-23 22:32:24,978: INFO: 911997196: Split listings_6.json into train and test sets]\n",
      "[2024-04-23 22:32:24,979: INFO: 911997196: Training set shape: (6924, 28)]\n",
      "[2024-04-23 22:32:24,980: INFO: 911997196: Test set shape: (2308, 28)]\n",
      "Training set shape for listings_6.json: (6924, 28)\n",
      "Test set shape for listings_6.json: (2308, 28)\n",
      "[2024-04-23 22:32:27,047: INFO: 911997196: Split listings_7.json into train and test sets]\n",
      "[2024-04-23 22:32:27,048: INFO: 911997196: Training set shape: (6924, 28)]\n",
      "[2024-04-23 22:32:27,049: INFO: 911997196: Test set shape: (2308, 28)]\n",
      "Training set shape for listings_7.json: (6924, 28)\n",
      "Test set shape for listings_7.json: (2308, 28)\n",
      "[2024-04-23 22:32:29,532: INFO: 911997196: Split listings_8.json into train and test sets]\n",
      "[2024-04-23 22:32:29,533: INFO: 911997196: Training set shape: (6924, 28)]\n",
      "[2024-04-23 22:32:29,534: INFO: 911997196: Test set shape: (2308, 28)]\n",
      "Training set shape for listings_8.json: (6924, 28)\n",
      "Test set shape for listings_8.json: (2308, 28)\n",
      "[2024-04-23 22:32:31,880: INFO: 911997196: Split listings_9.json into train and test sets]\n",
      "[2024-04-23 22:32:31,882: INFO: 911997196: Training set shape: (6924, 28)]\n",
      "[2024-04-23 22:32:31,882: INFO: 911997196: Test set shape: (2308, 28)]\n",
      "Training set shape for listings_9.json: (6924, 28)\n",
      "Test set shape for listings_9.json: (2308, 28)\n",
      "[2024-04-23 22:32:34,154: INFO: 911997196: Split listings_a.json into train and test sets]\n",
      "[2024-04-23 22:32:34,155: INFO: 911997196: Training set shape: (6924, 28)]\n",
      "[2024-04-23 22:32:34,155: INFO: 911997196: Test set shape: (2308, 28)]\n",
      "Training set shape for listings_a.json: (6924, 28)\n",
      "Test set shape for listings_a.json: (2308, 28)\n",
      "[2024-04-23 22:32:36,389: INFO: 911997196: Split listings_b.json into train and test sets]\n",
      "[2024-04-23 22:32:36,390: INFO: 911997196: Training set shape: (6924, 28)]\n",
      "[2024-04-23 22:32:36,392: INFO: 911997196: Test set shape: (2308, 28)]\n",
      "Training set shape for listings_b.json: (6924, 28)\n",
      "Test set shape for listings_b.json: (2308, 28)\n",
      "[2024-04-23 22:32:38,809: INFO: 911997196: Split listings_c.json into train and test sets]\n",
      "[2024-04-23 22:32:38,810: INFO: 911997196: Training set shape: (6924, 28)]\n",
      "[2024-04-23 22:32:38,811: INFO: 911997196: Test set shape: (2308, 28)]\n",
      "Training set shape for listings_c.json: (6924, 28)\n",
      "Test set shape for listings_c.json: (2308, 28)\n",
      "[2024-04-23 22:32:40,939: INFO: 911997196: Split listings_d.json into train and test sets]\n",
      "[2024-04-23 22:32:40,941: INFO: 911997196: Training set shape: (6924, 28)]\n",
      "[2024-04-23 22:32:40,942: INFO: 911997196: Test set shape: (2308, 28)]\n",
      "Training set shape for listings_d.json: (6924, 28)\n",
      "Test set shape for listings_d.json: (2308, 28)\n",
      "[2024-04-23 22:32:43,306: INFO: 911997196: Split listings_e.json into train and test sets]\n",
      "[2024-04-23 22:32:43,308: INFO: 911997196: Training set shape: (6924, 28)]\n",
      "[2024-04-23 22:32:43,309: INFO: 911997196: Test set shape: (2308, 28)]\n",
      "Training set shape for listings_e.json: (6924, 28)\n",
      "Test set shape for listings_e.json: (2308, 28)\n",
      "[2024-04-23 22:32:45,800: INFO: 911997196: Split listings_f.json into train and test sets]\n",
      "[2024-04-23 22:32:45,801: INFO: 911997196: Training set shape: (6916, 28)]\n",
      "[2024-04-23 22:32:45,802: INFO: 911997196: Test set shape: (2306, 28)]\n",
      "Training set shape for listings_f.json: (6916, 28)\n",
      "Test set shape for listings_f.json: (2306, 28)\n"
     ]
    }
   ],
   "source": [
    "try:\n",
    "    config = ConfigurationManager()\n",
    "    data_transformation_config = config.get_data_transformation_config()\n",
    "    data_transformation = DataTransformation(config=data_transformation_config)\n",
    "    data_transformation.train_test_spliting()\n",
    "except Exception as e:\n",
    "    raise e"
   ]
  },
  {
   "cell_type": "code",
   "execution_count": null,
   "metadata": {},
   "outputs": [],
   "source": []
  }
 ],
 "metadata": {
  "kernelspec": {
   "display_name": "mlproj",
   "language": "python",
   "name": "python3"
  },
  "language_info": {
   "codemirror_mode": {
    "name": "ipython",
    "version": 3
   },
   "file_extension": ".py",
   "mimetype": "text/x-python",
   "name": "python",
   "nbconvert_exporter": "python",
   "pygments_lexer": "ipython3",
   "version": "3.8.19"
  },
  "orig_nbformat": 4
 },
 "nbformat": 4,
 "nbformat_minor": 2
}
