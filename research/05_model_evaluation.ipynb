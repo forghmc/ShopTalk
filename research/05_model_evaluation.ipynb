{
 "cells": [
  {
   "cell_type": "code",
   "execution_count": 12,
   "metadata": {},
   "outputs": [],
   "source": [
    "import os"
   ]
  },
  {
   "cell_type": "code",
   "execution_count": 13,
   "metadata": {},
   "outputs": [
    {
     "data": {
      "text/plain": [
       "'c:\\\\Users\\\\deept\\\\ShopTalk'"
      ]
     },
     "execution_count": 13,
     "metadata": {},
     "output_type": "execute_result"
    }
   ],
   "source": [
    "%pwd"
   ]
  },
  {
   "cell_type": "code",
   "execution_count": 14,
   "metadata": {},
   "outputs": [],
   "source": [
    "os.chdir(\"../\")"
   ]
  },
  {
   "cell_type": "code",
   "execution_count": 15,
   "metadata": {},
   "outputs": [
    {
     "data": {
      "text/plain": [
       "'c:\\\\Users\\\\deept'"
      ]
     },
     "execution_count": 15,
     "metadata": {},
     "output_type": "execute_result"
    }
   ],
   "source": [
    "%pwd"
   ]
  },
  {
   "cell_type": "code",
   "execution_count": 16,
   "metadata": {},
   "outputs": [],
   "source": [
    "os.environ[\"MLFLOW_TRACKING_URI\"]=\"https://dagshub.com/forghmc/ShopTalk.mlflow\"\n",
    "os.environ[\"MLFLOW_TRACKING_USERNAME\"]=\"forghmc\"\n",
    "os.environ[\"MLFLOW_TRACKING_PASSWORD\"]=\"0749a14e339ee9e48d4d3beeb5d2247a8daeb17b\"\n"
   ]
  },
  {
   "cell_type": "code",
   "execution_count": 17,
   "metadata": {},
   "outputs": [],
   "source": [
    "from dataclasses import dataclass\n",
    "from pathlib import Path\n",
    "\n",
    "\n",
    "@dataclass(frozen=True)\n",
    "class ModelEvaluationConfig:\n",
    "    root_dir: Path\n",
    "    test_data_path: Path\n",
    "    model_path: Path\n",
    "    all_params: dict\n",
    "    metric_file_name: Path\n",
    "    target_column: str\n",
    "    mlflow_uri: str\n",
    "   "
   ]
  },
  {
   "cell_type": "code",
   "execution_count": 18,
   "metadata": {},
   "outputs": [],
   "source": [
    "from mlProject.constants import *\n",
    "from mlProject.utils.common import read_yaml, create_directories, save_json"
   ]
  },
  {
   "cell_type": "code",
   "execution_count": 19,
   "metadata": {},
   "outputs": [],
   "source": [
    "class ConfigurationManager:\n",
    "    \n",
    "    CONFIG_FILE_PATH = r'C:\\Users\\deept\\ShopTalk\\config\\config.yaml'\n",
    "    PARAMS_FILE_PATH = r\"C:\\Users\\deept\\ShopTalk\\params.yaml\"\n",
    "    SCHEMA_FILE_PATH = r\"C:\\Users\\deept\\ShopTalk\\schema.yaml\"\n",
    "\n",
    "    def __init__(\n",
    "        self,\n",
    "        config_filepath = Path(CONFIG_FILE_PATH),\n",
    "        params_filepath = Path(PARAMS_FILE_PATH),\n",
    "        schema_filepath = Path(SCHEMA_FILE_PATH)):\n",
    "\n",
    "        self.config = read_yaml(config_filepath)\n",
    "        self.params = read_yaml(params_filepath)\n",
    "        self.schema = read_yaml(schema_filepath)\n",
    "\n",
    "        create_directories([self.config.artifacts_root])\n",
    "\n",
    "    \n",
    "    def get_model_evaluation_config(self) -> ModelEvaluationConfig:\n",
    "        config = self.config.model_evaluation\n",
    "        params = self.params.ElasticNet\n",
    "        schema =  self.schema.TARGET_COLUMN\n",
    "\n",
    "        create_directories([config.root_dir])\n",
    "\n",
    "        model_evaluation_config = ModelEvaluationConfig(\n",
    "            root_dir=config.root_dir,\n",
    "            test_data_path=config.test_data_path,\n",
    "            model_path = config.model_path,\n",
    "            all_params=params,\n",
    "            metric_file_name = config.metric_file_name,\n",
    "            target_column = schema.name,\n",
    "            mlflow_uri=\"https://dagshub.com/forghmc/ShopTalk.mlflow\",\n",
    "           \n",
    "        )\n",
    "\n",
    "        return model_evaluation_config\n"
   ]
  },
  {
   "cell_type": "code",
   "execution_count": 20,
   "metadata": {},
   "outputs": [],
   "source": [
    "import os\n",
    "import pandas as pd\n",
    "from sklearn.metrics import mean_squared_error, mean_absolute_error, r2_score\n",
    "from urllib.parse import urlparse\n",
    "import mlflow\n",
    "import mlflow.sklearn\n",
    "import numpy as np\n",
    "import joblib"
   ]
  },
  {
   "cell_type": "code",
   "execution_count": 21,
   "metadata": {},
   "outputs": [],
   "source": [
    "class ModelEvaluation:\n",
    "    def __init__(self, config: ModelEvaluationConfig):\n",
    "        self.config = config\n",
    "\n",
    "    \n",
    "    def eval_metrics(self,actual, pred):\n",
    "        rmse = np.sqrt(mean_squared_error(actual, pred))\n",
    "        mae = mean_absolute_error(actual, pred)\n",
    "        r2 = r2_score(actual, pred)\n",
    "        return rmse, mae, r2\n",
    "    \n",
    "\n",
    "\n",
    "    def log_into_mlflow(self):\n",
    "\n",
    "        test_data = pd.read_json(self.config.test_data_path, lines=True)\n",
    "        model = joblib.load(self.config.model_path)\n",
    "\n",
    "        test_data = pd.read_json(self.config.test_data_path, lines=True)\n",
    "        print(\"Columns in test_data:\", test_data.columns)  # This will list all column names in test_data\n",
    "\n",
    "        # Check if the target column exists before attempting to drop it\n",
    "        if self.config.target_column in test_data.columns:\n",
    "            test_x = test_data.drop([self.config.target_column], axis=1)\n",
    "            test_y = test_data[[self.config.target_column]]\n",
    "        else:\n",
    "            raise KeyError(f\"Column '{self.config.target_column}' not found in test_data\")\n",
    "\n",
    "        \n",
    "\n",
    "    \n"
   ]
  },
  {
   "cell_type": "code",
   "execution_count": 22,
   "metadata": {},
   "outputs": [
    {
     "name": "stdout",
     "output_type": "stream",
     "text": [
      "[2024-04-23 22:57:17,420: INFO: common: yaml file: C:\\Users\\deept\\ShopTalk\\config\\config.yaml loaded successfully]\n",
      "[2024-04-23 22:57:17,425: INFO: common: yaml file: C:\\Users\\deept\\ShopTalk\\params.yaml loaded successfully]\n",
      "[2024-04-23 22:57:17,455: INFO: common: yaml file: C:\\Users\\deept\\ShopTalk\\schema.yaml loaded successfully]\n",
      "[2024-04-23 22:57:17,460: INFO: common: created directory at: artifacts]\n",
      "[2024-04-23 22:57:17,463: INFO: common: created directory at: artifacts/model_evaluation]\n",
      "Columns in test_data: Index(['brand', 'bullet_point', 'color', 'item_id', 'item_name', 'model_name',\n",
      "       'model_number', 'model_year', 'product_type', 'style', 'main_image_id',\n",
      "       'other_image_id', 'item_keywords', 'country', 'marketplace',\n",
      "       'domain_name', 'node', 'item_dimensions', 'item_weight', 'material',\n",
      "       'fabric_type', 'color_code', 'product_description', 'spin_id',\n",
      "       '3dmodel_id', 'pattern', 'finish_type', 'item_shape'],\n",
      "      dtype='object')\n"
     ]
    }
   ],
   "source": [
    "try:\n",
    "    config = ConfigurationManager()\n",
    "    model_evaluation_config = config.get_model_evaluation_config()\n",
    "    model_evaluation_config = ModelEvaluation(config=model_evaluation_config)\n",
    "    model_evaluation_config.log_into_mlflow()\n",
    "except Exception as e:\n",
    "    raise e"
   ]
  },
  {
   "cell_type": "code",
   "execution_count": null,
   "metadata": {},
   "outputs": [],
   "source": []
  }
 ],
 "metadata": {
  "kernelspec": {
   "display_name": "mlproj",
   "language": "python",
   "name": "python3"
  },
  "language_info": {
   "codemirror_mode": {
    "name": "ipython",
    "version": 3
   },
   "file_extension": ".py",
   "mimetype": "text/x-python",
   "name": "python",
   "nbconvert_exporter": "python",
   "pygments_lexer": "ipython3",
   "version": "3.8.19"
  },
  "orig_nbformat": 4
 },
 "nbformat": 4,
 "nbformat_minor": 2
}
