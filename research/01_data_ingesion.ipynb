{
 "cells": [
  {
   "cell_type": "code",
   "execution_count": 1,
   "metadata": {},
   "outputs": [],
   "source": [
    "import os"
   ]
  },
  {
   "cell_type": "code",
   "execution_count": 2,
   "metadata": {},
   "outputs": [
    {
     "data": {
      "text/plain": [
       "'c:\\\\Users\\\\deept\\\\ShopTalk\\\\research'"
      ]
     },
     "execution_count": 2,
     "metadata": {},
     "output_type": "execute_result"
    }
   ],
   "source": [
    "# Check present working directory\n",
    "%pwd"
   ]
  },
  {
   "cell_type": "code",
   "execution_count": 3,
   "metadata": {},
   "outputs": [],
   "source": [
    "# Change present working directory to thr root directory\n",
    "os.chdir('../')"
   ]
  },
  {
   "cell_type": "code",
   "execution_count": 4,
   "metadata": {},
   "outputs": [
    {
     "data": {
      "text/plain": [
       "'c:\\\\Users\\\\deept\\\\ShopTalk'"
      ]
     },
     "execution_count": 4,
     "metadata": {},
     "output_type": "execute_result"
    }
   ],
   "source": [
    "%pwd"
   ]
  },
  {
   "cell_type": "code",
   "execution_count": 5,
   "metadata": {},
   "outputs": [],
   "source": [
    "from dataclasses import dataclass\n",
    "from pathlib import Path\n",
    "\n",
    "\n",
    "@dataclass(frozen=True)\n",
    "class DataIngestionConfig:\n",
    "    root_dir: Path\n",
    "    source_URL: str\n",
    "    local_data_file: Path\n",
    "    unzip_dir: Path\n",
    "    untar_path: Path"
   ]
  },
  {
   "cell_type": "code",
   "execution_count": 6,
   "metadata": {},
   "outputs": [],
   "source": [
    "from mlProject.constants import *\n",
    "from mlProject.utils.common import read_yaml, create_directories\n",
    "from pathlib import Path"
   ]
  },
  {
   "cell_type": "code",
   "execution_count": 7,
   "metadata": {},
   "outputs": [],
   "source": [
    "class ConfigurationManager:\n",
    "    CONFIG_FILE_PATH = r'C:\\Users\\deept\\ShopTalk\\config\\config.yaml'\n",
    "    PARAMS_FILE_PATH = r\"C:\\Users\\deept\\ShopTalk\\params.yaml\"\n",
    "    SCHEMA_FILE_PATH = r\"C:\\Users\\deept\\ShopTalk\\schema.yaml\"\n",
    "    def __init__(\n",
    "        self,\n",
    "        config_filepath = Path(CONFIG_FILE_PATH),\n",
    "        params_filepath = Path(PARAMS_FILE_PATH),\n",
    "        schema_filepath = Path(SCHEMA_FILE_PATH)):\n",
    "\n",
    "        self.config = read_yaml(config_filepath)\n",
    "        self.params = read_yaml(params_filepath)\n",
    "        self.schema = read_yaml(schema_filepath)\n",
    "\n",
    "        create_directories([self.config.artifacts_root])\n",
    "\n",
    "\n",
    "    \n",
    "    def get_data_ingestion_config(self) -> DataIngestionConfig:\n",
    "        config = self.config.data_ingestion\n",
    "\n",
    "        create_directories([config.root_dir])\n",
    "\n",
    "        data_ingestion_config = DataIngestionConfig(\n",
    "            root_dir=config.root_dir,\n",
    "            source_URL=config.source_URL,\n",
    "            local_data_file=config.local_data_file,\n",
    "            unzip_dir=config.unzip_dir, \n",
    "            untar_path=config.untar_path \n",
    "        )\n",
    "\n",
    "        return data_ingestion_config"
   ]
  },
  {
   "cell_type": "code",
   "execution_count": 8,
   "metadata": {},
   "outputs": [],
   "source": [
    "import os\n",
    "import urllib.request as request\n",
    "import zipfile\n",
    "import tarfile\n",
    "import gzip\n",
    "import time\n",
    "from mlProject import logger\n",
    "from mlProject.utils.common import get_size\n"
   ]
  },
  {
   "cell_type": "code",
   "execution_count": 9,
   "metadata": {},
   "outputs": [],
   "source": [
    "class DataIngestion:\n",
    "    def __init__(self, config: DataIngestionConfig):\n",
    "        self.config = config\n",
    "\n",
    "\n",
    "    \n",
    "    def download_file(self):\n",
    "        if not os.path.exists(self.config.local_data_file):\n",
    "            filename, headers = request.urlretrieve(\n",
    "                url = self.config.source_URL,\n",
    "                filename = self.config.local_data_file\n",
    "            )\n",
    "            logger.info(f\"{filename} download! with following info: \\n{headers}\")\n",
    "        else:\n",
    "            logger.info(f\"File already exists of size: {get_size(Path(self.config.local_data_file))}\")\n",
    "\n",
    "\n",
    "\n",
    "    def extract_zip_file(self):\n",
    "        \"\"\"\n",
    "        zip_file_path: str\n",
    "        Extracts the zip file into the data directory\n",
    "        Function returns None\n",
    "        \"\"\"\n",
    "        unzip_path = self.config.unzip_dir\n",
    "        os.makedirs(unzip_path, exist_ok=True)\n",
    "        with zipfile.ZipFile(self.config.local_data_file, 'r') as zip_ref:\n",
    "            zip_ref.extractall(unzip_path)\n",
    "\n",
    "    def cleanup_files(self, file_paths):\n",
    "        \"\"\"\n",
    "        Attempts to clean up files that could not be deleted during the extraction process.\n",
    "        \"\"\"\n",
    "        for file_path in file_paths:\n",
    "            try:\n",
    "                os.remove(file_path)\n",
    "                print(f\"File {file_path} deleted successfully during cleanup.\")\n",
    "            except PermissionError as e:\n",
    "                print(f\"Failed to delete {file_path} during cleanup: {e}\")   \n",
    "    \n",
    "    def extract_compressed_files_from_tar(self):\n",
    "        # List to keep track of files that could not be deleted\n",
    "        files_to_cleanup = []\n",
    "        \"\"\"\n",
    "        Extracts all folders/files inside 'data.tar' which could be compressed by any format.\n",
    "        \"\"\"\n",
    "        # Path to the 'data.tar' file\n",
    "        tar_file_path = Path(self.config.unzip_dir) / 'data.tar'\n",
    "        \n",
    "        # Create a directory to extract the contents of 'data.tar'\n",
    "        tar_extract_dir = tar_file_path.parent / 'data_tar_extracted'\n",
    "        os.makedirs(tar_extract_dir, exist_ok=True)\n",
    "        \n",
    "        # Extract the 'data.tar' file\n",
    "        with tarfile.open(tar_file_path, 'r') as tar:\n",
    "            tar.extractall(path=tar_extract_dir)\n",
    "        \n",
    "        # Walk through the directory where 'data.tar' was extracted\n",
    "        for root, dirs, files in os.walk(tar_extract_dir):\n",
    "            for file in files:\n",
    "                file_path = Path(root) / file\n",
    "                \n",
    "                # Handle gzip compression\n",
    "                if file_path.suffix == '.gz':\n",
    "                    with gzip.open(file_path, 'rb') as f_in:\n",
    "                        output_file_path = file_path.with_suffix('')\n",
    "                        with open(output_file_path, 'wb') as f_out:\n",
    "                            f_out.write(f_in.read())\n",
    "                            try:\n",
    "                                os.remove(file_path)\n",
    "                            except PermissionError as e:\n",
    "                                print(f\"Could not delete {file_path}: {e}\")\n",
    "                                files_to_cleanup.append(file_path)\n",
    "                # Handle zip compression\n",
    "                elif file_path.suffix == '.zip':\n",
    "                    with zipfile.ZipFile(file_path, 'r') as zip_ref:\n",
    "                        zip_ref.extractall(path=file_path.parent)\n",
    "                    os.remove(file_path)  # Remove the .zip file after extraction\n",
    "        self.cleanup_files(files_to_cleanup)       \n",
    "\n"
   ]
  },
  {
   "cell_type": "code",
   "execution_count": 10,
   "metadata": {},
   "outputs": [
    {
     "name": "stdout",
     "output_type": "stream",
     "text": [
      "[2024-04-23 22:30:38,724: INFO: common: yaml file: C:\\Users\\deept\\ShopTalk\\config\\config.yaml loaded successfully]\n",
      "[2024-04-23 22:30:38,731: INFO: common: yaml file: C:\\Users\\deept\\ShopTalk\\params.yaml loaded successfully]\n",
      "[2024-04-23 22:30:38,748: INFO: common: yaml file: C:\\Users\\deept\\ShopTalk\\schema.yaml loaded successfully]\n",
      "[2024-04-23 22:30:38,750: INFO: common: created directory at: artifacts]\n",
      "[2024-04-23 22:30:38,751: INFO: common: created directory at: artifacts/data_ingestion]\n",
      "[2024-04-23 22:30:38,754: INFO: 2070140361: File already exists of size: ~ 85430 KB]\n",
      "Could not delete artifacts\\data_ingestion\\data_tar_extracted\\listings\\metadata\\listings_0.json.gz: [WinError 32] The process cannot access the file because it is being used by another process: 'artifacts\\\\data_ingestion\\\\data_tar_extracted\\\\listings\\\\metadata\\\\listings_0.json.gz'\n",
      "Could not delete artifacts\\data_ingestion\\data_tar_extracted\\listings\\metadata\\listings_1.json.gz: [WinError 32] The process cannot access the file because it is being used by another process: 'artifacts\\\\data_ingestion\\\\data_tar_extracted\\\\listings\\\\metadata\\\\listings_1.json.gz'\n",
      "Could not delete artifacts\\data_ingestion\\data_tar_extracted\\listings\\metadata\\listings_2.json.gz: [WinError 32] The process cannot access the file because it is being used by another process: 'artifacts\\\\data_ingestion\\\\data_tar_extracted\\\\listings\\\\metadata\\\\listings_2.json.gz'\n",
      "Could not delete artifacts\\data_ingestion\\data_tar_extracted\\listings\\metadata\\listings_3.json.gz: [WinError 32] The process cannot access the file because it is being used by another process: 'artifacts\\\\data_ingestion\\\\data_tar_extracted\\\\listings\\\\metadata\\\\listings_3.json.gz'\n",
      "Could not delete artifacts\\data_ingestion\\data_tar_extracted\\listings\\metadata\\listings_4.json.gz: [WinError 32] The process cannot access the file because it is being used by another process: 'artifacts\\\\data_ingestion\\\\data_tar_extracted\\\\listings\\\\metadata\\\\listings_4.json.gz'\n",
      "Could not delete artifacts\\data_ingestion\\data_tar_extracted\\listings\\metadata\\listings_5.json.gz: [WinError 32] The process cannot access the file because it is being used by another process: 'artifacts\\\\data_ingestion\\\\data_tar_extracted\\\\listings\\\\metadata\\\\listings_5.json.gz'\n",
      "Could not delete artifacts\\data_ingestion\\data_tar_extracted\\listings\\metadata\\listings_6.json.gz: [WinError 32] The process cannot access the file because it is being used by another process: 'artifacts\\\\data_ingestion\\\\data_tar_extracted\\\\listings\\\\metadata\\\\listings_6.json.gz'\n",
      "Could not delete artifacts\\data_ingestion\\data_tar_extracted\\listings\\metadata\\listings_7.json.gz: [WinError 32] The process cannot access the file because it is being used by another process: 'artifacts\\\\data_ingestion\\\\data_tar_extracted\\\\listings\\\\metadata\\\\listings_7.json.gz'\n",
      "Could not delete artifacts\\data_ingestion\\data_tar_extracted\\listings\\metadata\\listings_8.json.gz: [WinError 32] The process cannot access the file because it is being used by another process: 'artifacts\\\\data_ingestion\\\\data_tar_extracted\\\\listings\\\\metadata\\\\listings_8.json.gz'\n",
      "Could not delete artifacts\\data_ingestion\\data_tar_extracted\\listings\\metadata\\listings_9.json.gz: [WinError 32] The process cannot access the file because it is being used by another process: 'artifacts\\\\data_ingestion\\\\data_tar_extracted\\\\listings\\\\metadata\\\\listings_9.json.gz'\n",
      "Could not delete artifacts\\data_ingestion\\data_tar_extracted\\listings\\metadata\\listings_a.json.gz: [WinError 32] The process cannot access the file because it is being used by another process: 'artifacts\\\\data_ingestion\\\\data_tar_extracted\\\\listings\\\\metadata\\\\listings_a.json.gz'\n",
      "Could not delete artifacts\\data_ingestion\\data_tar_extracted\\listings\\metadata\\listings_b.json.gz: [WinError 32] The process cannot access the file because it is being used by another process: 'artifacts\\\\data_ingestion\\\\data_tar_extracted\\\\listings\\\\metadata\\\\listings_b.json.gz'\n",
      "Could not delete artifacts\\data_ingestion\\data_tar_extracted\\listings\\metadata\\listings_c.json.gz: [WinError 32] The process cannot access the file because it is being used by another process: 'artifacts\\\\data_ingestion\\\\data_tar_extracted\\\\listings\\\\metadata\\\\listings_c.json.gz'\n",
      "Could not delete artifacts\\data_ingestion\\data_tar_extracted\\listings\\metadata\\listings_d.json.gz: [WinError 32] The process cannot access the file because it is being used by another process: 'artifacts\\\\data_ingestion\\\\data_tar_extracted\\\\listings\\\\metadata\\\\listings_d.json.gz'\n",
      "Could not delete artifacts\\data_ingestion\\data_tar_extracted\\listings\\metadata\\listings_e.json.gz: [WinError 32] The process cannot access the file because it is being used by another process: 'artifacts\\\\data_ingestion\\\\data_tar_extracted\\\\listings\\\\metadata\\\\listings_e.json.gz'\n",
      "Could not delete artifacts\\data_ingestion\\data_tar_extracted\\listings\\metadata\\listings_f.json.gz: [WinError 32] The process cannot access the file because it is being used by another process: 'artifacts\\\\data_ingestion\\\\data_tar_extracted\\\\listings\\\\metadata\\\\listings_f.json.gz'\n",
      "File artifacts\\data_ingestion\\data_tar_extracted\\listings\\metadata\\listings_0.json.gz deleted successfully during cleanup.\n",
      "File artifacts\\data_ingestion\\data_tar_extracted\\listings\\metadata\\listings_1.json.gz deleted successfully during cleanup.\n",
      "File artifacts\\data_ingestion\\data_tar_extracted\\listings\\metadata\\listings_2.json.gz deleted successfully during cleanup.\n",
      "File artifacts\\data_ingestion\\data_tar_extracted\\listings\\metadata\\listings_3.json.gz deleted successfully during cleanup.\n",
      "File artifacts\\data_ingestion\\data_tar_extracted\\listings\\metadata\\listings_4.json.gz deleted successfully during cleanup.\n",
      "File artifacts\\data_ingestion\\data_tar_extracted\\listings\\metadata\\listings_5.json.gz deleted successfully during cleanup.\n",
      "File artifacts\\data_ingestion\\data_tar_extracted\\listings\\metadata\\listings_6.json.gz deleted successfully during cleanup.\n",
      "File artifacts\\data_ingestion\\data_tar_extracted\\listings\\metadata\\listings_7.json.gz deleted successfully during cleanup.\n",
      "File artifacts\\data_ingestion\\data_tar_extracted\\listings\\metadata\\listings_8.json.gz deleted successfully during cleanup.\n",
      "File artifacts\\data_ingestion\\data_tar_extracted\\listings\\metadata\\listings_9.json.gz deleted successfully during cleanup.\n",
      "File artifacts\\data_ingestion\\data_tar_extracted\\listings\\metadata\\listings_a.json.gz deleted successfully during cleanup.\n",
      "File artifacts\\data_ingestion\\data_tar_extracted\\listings\\metadata\\listings_b.json.gz deleted successfully during cleanup.\n",
      "File artifacts\\data_ingestion\\data_tar_extracted\\listings\\metadata\\listings_c.json.gz deleted successfully during cleanup.\n",
      "File artifacts\\data_ingestion\\data_tar_extracted\\listings\\metadata\\listings_d.json.gz deleted successfully during cleanup.\n",
      "File artifacts\\data_ingestion\\data_tar_extracted\\listings\\metadata\\listings_e.json.gz deleted successfully during cleanup.\n",
      "File artifacts\\data_ingestion\\data_tar_extracted\\listings\\metadata\\listings_f.json.gz deleted successfully during cleanup.\n"
     ]
    }
   ],
   "source": [
    "try:\n",
    "    config = ConfigurationManager()\n",
    "    data_ingestion_config = config.get_data_ingestion_config()\n",
    "    data_ingestion = DataIngestion(config=data_ingestion_config)\n",
    "    data_ingestion.download_file()\n",
    "    data_ingestion.extract_compressed_files_from_tar()\n",
    "except Exception as e:\n",
    "    raise e"
   ]
  },
  {
   "cell_type": "code",
   "execution_count": null,
   "metadata": {},
   "outputs": [],
   "source": []
  }
 ],
 "metadata": {
  "kernelspec": {
   "display_name": "Python 3",
   "language": "python",
   "name": "python3"
  },
  "language_info": {
   "codemirror_mode": {
    "name": "ipython",
    "version": 3
   },
   "file_extension": ".py",
   "mimetype": "text/x-python",
   "name": "python",
   "nbconvert_exporter": "python",
   "pygments_lexer": "ipython3",
   "version": "3.8.19"
  }
 },
 "nbformat": 4,
 "nbformat_minor": 2
}
