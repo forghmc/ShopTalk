{
 "cells": [
  {
   "cell_type": "code",
   "execution_count": 1,
   "metadata": {},
   "outputs": [],
   "source": [
    "import os"
   ]
  },
  {
   "cell_type": "code",
   "execution_count": 2,
   "metadata": {},
   "outputs": [
    {
     "data": {
      "text/plain": [
       "'c:\\\\Users\\\\deept\\\\ShopTalk\\\\research'"
      ]
     },
     "execution_count": 2,
     "metadata": {},
     "output_type": "execute_result"
    }
   ],
   "source": [
    "%pwd"
   ]
  },
  {
   "cell_type": "code",
   "execution_count": 3,
   "metadata": {},
   "outputs": [],
   "source": [
    "os.chdir(\"../\")"
   ]
  },
  {
   "cell_type": "code",
   "execution_count": 4,
   "metadata": {},
   "outputs": [
    {
     "data": {
      "text/plain": [
       "'c:\\\\Users\\\\deept\\\\ShopTalk'"
      ]
     },
     "execution_count": 4,
     "metadata": {},
     "output_type": "execute_result"
    }
   ],
   "source": [
    "%pwd"
   ]
  },
  {
   "cell_type": "code",
   "execution_count": 5,
   "metadata": {},
   "outputs": [],
   "source": [
    "import pandas as pd"
   ]
  },
  {
   "cell_type": "code",
   "execution_count": 6,
   "metadata": {},
   "outputs": [
    {
     "name": "stdout",
     "output_type": "stream",
     "text": [
      "                                               brand  \\\n",
      "0      [{'language_tag': 'nl_NL', 'value': 'find.'}]   \n",
      "1  [{'language_tag': 'es_MX', 'value': 'AmazonBas...   \n",
      "2  [{'language_tag': 'en_AE', 'value': 'AmazonBas...   \n",
      "3  [{'language_tag': 'en_GB', 'value': 'Stone & B...   \n",
      "4    [{'language_tag': 'en_AU', 'value': 'The Fix'}]   \n",
      "\n",
      "                                        bullet_point  \\\n",
      "0  [{'language_tag': 'nl_NL', 'value': 'Schoen in...   \n",
      "1  [{'language_tag': 'es_MX', 'value': 'White Pow...   \n",
      "2  [{'language_tag': 'en_AE', 'value': '3D printe...   \n",
      "3                                                NaN   \n",
      "4  [{'language_tag': 'en_AU', 'value': 'Embroider...   \n",
      "\n",
      "                                               color     item_id  \\\n",
      "0  [{'language_tag': 'nl_NL', 'value': 'Veelkleur...  B06X9STHNG   \n",
      "1  [{'language_tag': 'es_MX', 'value': 'White Pow...  B07P8ML82R   \n",
      "2  [{'language_tag': 'en_AE', 'value': 'Transluce...  B07H9GMYXS   \n",
      "3  [{'language_tag': 'en_GB', 'value': 'Stone Bro...  B07CTPR73M   \n",
      "4  [{'language_tag': 'en_AU', 'standardized_value...  B01MTEI8M6   \n",
      "\n",
      "                                           item_name  \\\n",
      "0  [{'language_tag': 'nl_NL', 'value': 'Amazon-me...   \n",
      "1  [{'language_tag': 'es_MX', 'value': '22\" Botto...   \n",
      "2  [{'language_tag': 'en_AE', 'value': 'AmazonBas...   \n",
      "3  [{'language_tag': 'en_GB', 'value': 'Stone & B...   \n",
      "4  [{'language_tag': 'en_AU', 'value': 'The Fix A...   \n",
      "\n",
      "                                      model_name  \\\n",
      "0  [{'language_tag': 'nl_NL', 'value': '37753'}]   \n",
      "1                                            NaN   \n",
      "2                                            NaN   \n",
      "3                                            NaN   \n",
      "4                                            NaN   \n",
      "\n",
      "                      model_number         model_year  \\\n",
      "0          [{'value': '12-05-04'}]  [{'value': 2017}]   \n",
      "1     [{'value': 'AB5013-R22-10'}]                NaN   \n",
      "2    [{'value': 'AMG10528516-10'}]                NaN   \n",
      "3       [{'value': '25020039-01'}]                NaN   \n",
      "4  [{'value': '880071Havana Tan'}]  [{'value': 2017}]   \n",
      "\n",
      "                           product_type  \\\n",
      "0                  [{'value': 'SHOES'}]   \n",
      "1               [{'value': 'HARDWARE'}]   \n",
      "2  [{'value': 'MECHANICAL_COMPONENTS'}]   \n",
      "3                   [{'value': 'SOFA'}]   \n",
      "4                  [{'value': 'SHOES'}]   \n",
      "\n",
      "                                               style  ...  \\\n",
      "0  [{'language_tag': 'nl_NL', 'value': 'Gesloten-...  ...   \n",
      "1   [{'language_tag': 'es_MX', 'value': '10 pares'}]  ...   \n",
      "2     [{'language_tag': 'en_AE', 'value': '1-Pack'}]  ...   \n",
      "3                                                NaN  ...   \n",
      "4  [{'language_tag': 'en_AU', 'value': 'French Lo...  ...   \n",
      "\n",
      "                                         item_weight  \\\n",
      "0                                                NaN   \n",
      "1  [{'normalized_value': {'unit': 'pounds', 'valu...   \n",
      "2  [{'normalized_value': {'unit': 'pounds', 'valu...   \n",
      "3  [{'normalized_value': {'unit': 'pounds', 'valu...   \n",
      "4  [{'normalized_value': {'unit': 'pounds', 'valu...   \n",
      "\n",
      "                                            material  \\\n",
      "0                                                NaN   \n",
      "1                                                NaN   \n",
      "2  [{'language_tag': 'en_AE', 'value': 'PETG (Pol...   \n",
      "3                                                NaN   \n",
      "4                                                NaN   \n",
      "\n",
      "                                     fabric_type color_code  \\\n",
      "0                                            NaN        NaN   \n",
      "1                                            NaN        NaN   \n",
      "2                                            NaN        NaN   \n",
      "3                                            NaN        NaN   \n",
      "4  [{'language_tag': 'en_AU', 'value': 'Suede'}]  [#A67B5B]   \n",
      "\n",
      "  product_description spin_id 3dmodel_id pattern finish_type item_shape  \n",
      "0                 NaN     NaN        NaN     NaN         NaN        NaN  \n",
      "1                 NaN     NaN        NaN     NaN         NaN        NaN  \n",
      "2                 NaN     NaN        NaN     NaN         NaN        NaN  \n",
      "3                 NaN     NaN        NaN     NaN         NaN        NaN  \n",
      "4                 NaN     NaN        NaN     NaN         NaN        NaN  \n",
      "\n",
      "[5 rows x 28 columns]\n"
     ]
    }
   ],
   "source": [
    "# Test reading the file with line-by-line parsing\n",
    "try:\n",
    "    data = pd.read_json(\"artifacts/data_ingestion/data_tar_extracted/listings/metadata/listings_0.json\", lines=True)\n",
    "    print(data.head())\n",
    "except ValueError as e:\n",
    "    print(\"Error reading JSON:\", e)"
   ]
  },
  {
   "cell_type": "code",
   "execution_count": 7,
   "metadata": {},
   "outputs": [
    {
     "name": "stdout",
     "output_type": "stream",
     "text": [
      "<class 'pandas.core.frame.DataFrame'>\n",
      "RangeIndex: 9232 entries, 0 to 9231\n",
      "Data columns (total 28 columns):\n",
      " #   Column               Non-Null Count  Dtype \n",
      "---  ------               --------------  ----- \n",
      " 0   brand                9229 non-null   object\n",
      " 1   bullet_point         8208 non-null   object\n",
      " 2   color                7309 non-null   object\n",
      " 3   item_id              9232 non-null   object\n",
      " 4   item_name            9232 non-null   object\n",
      " 5   model_name           5134 non-null   object\n",
      " 6   model_number         7774 non-null   object\n",
      " 7   model_year           450 non-null    object\n",
      " 8   product_type         9232 non-null   object\n",
      " 9   style                2723 non-null   object\n",
      " 10  main_image_id        9199 non-null   object\n",
      " 11  other_image_id       8578 non-null   object\n",
      " 12  item_keywords        7905 non-null   object\n",
      " 13  country              9232 non-null   object\n",
      " 14  marketplace          9232 non-null   object\n",
      " 15  domain_name          9232 non-null   object\n",
      " 16  node                 8819 non-null   object\n",
      " 17  item_dimensions      2712 non-null   object\n",
      " 18  item_weight          6623 non-null   object\n",
      " 19  material             3369 non-null   object\n",
      " 20  fabric_type          557 non-null    object\n",
      " 21  color_code           1103 non-null   object\n",
      " 22  product_description  250 non-null    object\n",
      " 23  spin_id              531 non-null    object\n",
      " 24  3dmodel_id           508 non-null    object\n",
      " 25  pattern              270 non-null    object\n",
      " 26  finish_type          106 non-null    object\n",
      " 27  item_shape           328 non-null    object\n",
      "dtypes: object(28)\n",
      "memory usage: 2.0+ MB\n"
     ]
    }
   ],
   "source": [
    "data.info()"
   ]
  },
  {
   "cell_type": "code",
   "execution_count": 8,
   "metadata": {},
   "outputs": [
    {
     "data": {
      "text/plain": [
       "brand                     3\n",
       "bullet_point           1024\n",
       "color                  1923\n",
       "item_id                   0\n",
       "item_name                 0\n",
       "model_name             4098\n",
       "model_number           1458\n",
       "model_year             8782\n",
       "product_type              0\n",
       "style                  6509\n",
       "main_image_id            33\n",
       "other_image_id          654\n",
       "item_keywords          1327\n",
       "country                   0\n",
       "marketplace               0\n",
       "domain_name               0\n",
       "node                    413\n",
       "item_dimensions        6520\n",
       "item_weight            2609\n",
       "material               5863\n",
       "fabric_type            8675\n",
       "color_code             8129\n",
       "product_description    8982\n",
       "spin_id                8701\n",
       "3dmodel_id             8724\n",
       "pattern                8962\n",
       "finish_type            9126\n",
       "item_shape             8904\n",
       "dtype: int64"
      ]
     },
     "execution_count": 8,
     "metadata": {},
     "output_type": "execute_result"
    }
   ],
   "source": [
    "data.isnull().sum()"
   ]
  },
  {
   "cell_type": "code",
   "execution_count": 9,
   "metadata": {},
   "outputs": [
    {
     "data": {
      "text/plain": [
       "(9232, 28)"
      ]
     },
     "execution_count": 9,
     "metadata": {},
     "output_type": "execute_result"
    }
   ],
   "source": [
    "data.shape"
   ]
  },
  {
   "cell_type": "code",
   "execution_count": 10,
   "metadata": {},
   "outputs": [
    {
     "data": {
      "text/plain": [
       "Index(['brand', 'bullet_point', 'color', 'item_id', 'item_name', 'model_name',\n",
       "       'model_number', 'model_year', 'product_type', 'style', 'main_image_id',\n",
       "       'other_image_id', 'item_keywords', 'country', 'marketplace',\n",
       "       'domain_name', 'node', 'item_dimensions', 'item_weight', 'material',\n",
       "       'fabric_type', 'color_code', 'product_description', 'spin_id',\n",
       "       '3dmodel_id', 'pattern', 'finish_type', 'item_shape'],\n",
       "      dtype='object')"
      ]
     },
     "execution_count": 10,
     "metadata": {},
     "output_type": "execute_result"
    }
   ],
   "source": [
    "data.columns"
   ]
  },
  {
   "cell_type": "code",
   "execution_count": 11,
   "metadata": {},
   "outputs": [],
   "source": [
    "from dataclasses import dataclass\n",
    "from pathlib import Path\n",
    "\n",
    "\n",
    "@dataclass(frozen=True)\n",
    "class DataValidationConfig:\n",
    "    root_dir: Path\n",
    "    STATUS_FILE: str\n",
    "    untar_data_dir: Path\n",
    "    all_schema: dict"
   ]
  },
  {
   "cell_type": "code",
   "execution_count": 12,
   "metadata": {},
   "outputs": [],
   "source": [
    "from mlProject.constants import *\n",
    "from mlProject.utils.common import read_yaml, create_directories"
   ]
  },
  {
   "cell_type": "code",
   "execution_count": 13,
   "metadata": {},
   "outputs": [],
   "source": [
    "class ConfigurationManager:\n",
    "    CONFIG_FILE_PATH = r'C:\\Users\\deept\\ShopTalk\\config\\config.yaml'\n",
    "    PARAMS_FILE_PATH = r\"C:\\Users\\deept\\ShopTalk\\params.yaml\"\n",
    "    SCHEMA_FILE_PATH = r\"C:\\Users\\deept\\ShopTalk\\schema.yaml\"\n",
    "\n",
    "    def __init__(\n",
    "        self,\n",
    "        config_filepath = Path(CONFIG_FILE_PATH),\n",
    "        params_filepath = Path(PARAMS_FILE_PATH),\n",
    "        schema_filepath = Path(SCHEMA_FILE_PATH)):\n",
    "\n",
    "        self.config = read_yaml(config_filepath)\n",
    "        self.params = read_yaml(params_filepath)\n",
    "        self.schema = read_yaml(schema_filepath)\n",
    "\n",
    "        create_directories([self.config.artifacts_root])\n",
    "\n",
    "\n",
    "    \n",
    "    def get_data_validation_config(self) -> DataValidationConfig:\n",
    "        config = self.config.data_validation\n",
    "        schema = self.schema.COLUMNS\n",
    "\n",
    "        create_directories([config.root_dir])\n",
    "\n",
    "        data_validation_config = DataValidationConfig(\n",
    "            root_dir=config.root_dir,\n",
    "            STATUS_FILE=config.STATUS_FILE,\n",
    "            untar_data_dir = config.untar_data_dir,\n",
    "            all_schema=schema,\n",
    "        )\n",
    "\n",
    "        return data_validation_config"
   ]
  },
  {
   "cell_type": "code",
   "execution_count": 14,
   "metadata": {},
   "outputs": [],
   "source": [
    "import os\n",
    "from mlProject import logger"
   ]
  },
  {
   "cell_type": "code",
   "execution_count": 15,
   "metadata": {},
   "outputs": [],
   "source": [
    "class DataValidation:\n",
    "    def __init__(self, config: DataValidationConfig):\n",
    "        self.config = config\n",
    "\n",
    "\n",
    "    def validate_all_columns(self) -> bool:\n",
    "        try:\n",
    "            validation_status = True  # Start assuming all is valid\n",
    "\n",
    "            # List all json files in the directory\n",
    "            files = [f for f in Path(self.config.untar_data_dir).iterdir() if f.suffix == '.json']\n",
    "\n",
    "            for file in files:\n",
    "                data = pd.read_json(file, lines=True)  # Adjust based on your JSON structure\n",
    "                all_cols = list(data.columns)\n",
    "                all_schema = self.config.all_schema.keys()\n",
    "\n",
    "                # Validate columns for each file\n",
    "                file_status = all(col in all_schema for col in all_cols)\n",
    "                validation_status = validation_status and file_status  # Update overall status\n",
    "\n",
    "                # Log the validation status to a file (you could also log per file results)\n",
    "                with open(self.config.STATUS_FILE, 'a') as f:\n",
    "                    f.write(f\"Validation status for {file.name}: {file_status}\\n\")\n",
    "\n",
    "            return validation_status\n",
    "\n",
    "        except Exception as e:\n",
    "            print(f\"An error occurred: {e}\")\n",
    "            raise  # Consider more specific error handling depending on your needs\n",
    "\n"
   ]
  },
  {
   "cell_type": "code",
   "execution_count": 16,
   "metadata": {},
   "outputs": [
    {
     "name": "stdout",
     "output_type": "stream",
     "text": [
      "[2024-04-23 22:30:59,991: INFO: common: yaml file: C:\\Users\\deept\\ShopTalk\\config\\config.yaml loaded successfully]\n",
      "[2024-04-23 22:30:59,994: INFO: common: yaml file: C:\\Users\\deept\\ShopTalk\\params.yaml loaded successfully]\n",
      "[2024-04-23 22:31:00,012: INFO: common: yaml file: C:\\Users\\deept\\ShopTalk\\schema.yaml loaded successfully]\n",
      "[2024-04-23 22:31:00,015: INFO: common: created directory at: artifacts]\n",
      "[2024-04-23 22:31:00,017: INFO: common: created directory at: artifacts/data_validation]\n"
     ]
    }
   ],
   "source": [
    "try:\n",
    "    config = ConfigurationManager()\n",
    "    data_validation_config = config.get_data_validation_config()\n",
    "    data_validation = DataValidation(config=data_validation_config)\n",
    "    data_validation.validate_all_columns()\n",
    "except Exception as e:\n",
    "    raise e"
   ]
  }
 ],
 "metadata": {
  "kernelspec": {
   "display_name": "mlproj",
   "language": "python",
   "name": "python3"
  },
  "language_info": {
   "codemirror_mode": {
    "name": "ipython",
    "version": 3
   },
   "file_extension": ".py",
   "mimetype": "text/x-python",
   "name": "python",
   "nbconvert_exporter": "python",
   "pygments_lexer": "ipython3",
   "version": "3.8.19"
  },
  "orig_nbformat": 4
 },
 "nbformat": 4,
 "nbformat_minor": 2
}
